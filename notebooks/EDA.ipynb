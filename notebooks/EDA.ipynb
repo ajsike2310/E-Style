{
 "cells": [
  {
   "cell_type": "code",
   "execution_count": null,
   "id": "333ef210",
   "metadata": {
    "vscode": {
     "languageId": "plaintext"
    }
   },
   "outputs": [],
   "source": [
    "import pandas as pd\n",
    "import matplotlib.pyplot as plt\n",
    "from collections import Counter"
   ]
  },
  {
   "cell_type": "code",
   "execution_count": null,
   "id": "0cb58af9",
   "metadata": {
    "vscode": {
     "languageId": "plaintext"
    }
   },
   "outputs": [],
   "source": [
    "tops = pd.read_csv(\"tops.csv\")\n",
    "bottoms = pd.read_csv(\"bottoms.csv\")"
   ]
  },
  {
   "cell_type": "code",
   "execution_count": null,
   "id": "82b6c24f",
   "metadata": {
    "vscode": {
     "languageId": "plaintext"
    }
   },
   "outputs": [],
   "source": [
    "print(\"Tops Shape:\", tops.shape)\n",
    "print(\"Bottoms Shape:\", bottoms.shape)"
   ]
  },
  {
   "cell_type": "code",
   "execution_count": null,
   "id": "60d49013",
   "metadata": {
    "vscode": {
     "languageId": "plaintext"
    }
   },
   "outputs": [],
   "source": [
    "display(tops.head())\n",
    "display(bottoms.head())"
   ]
  },
  {
   "cell_type": "code",
   "execution_count": null,
   "id": "25fcd213",
   "metadata": {
    "vscode": {
     "languageId": "plaintext"
    }
   },
   "outputs": [],
   "source": [
    "print(\"Tops Missing:\\n\", tops.isnull().sum())\n",
    "print(\"Bottoms Missing:\\n\", bottoms.isnull().sum())"
   ]
  },
  {
   "cell_type": "code",
   "execution_count": null,
   "id": "5f9e2bbb",
   "metadata": {
    "vscode": {
     "languageId": "plaintext"
    }
   },
   "outputs": [],
   "source": [
    "print(tops.describe(include='all'))\n",
    "print(bottoms.describe(include='all'))"
   ]
  },
  {
   "cell_type": "code",
   "execution_count": null,
   "id": "a92624ba",
   "metadata": {
    "vscode": {
     "languageId": "plaintext"
    }
   },
   "outputs": [],
   "source": [
    "for col in ['product_name', 'details']:\n",
    "    print(f\"\\nTop {col} samples:\\n\", tops[col].head())\n",
    "    print(f\"\\nBottom {col} samples:\\n\", bottoms[col].head())"
   ]
  },
  {
   "cell_type": "code",
   "execution_count": null,
   "id": "3e5bb34a",
   "metadata": {
    "vscode": {
     "languageId": "plaintext"
    }
   },
   "outputs": [],
   "source": [
    "def show_top_words(df, column, title):\n",
    "    words = []\n",
    "    df[column].dropna().apply(lambda x: words.extend(x.lower().split()))\n",
    "    counter = Counter(words).most_common(20)\n",
    "    keys, values = zip(*counter)\n",
    "    \n",
    "    plt.figure(figsize=(10,5))\n",
    "    plt.bar(keys, values)\n",
    "    plt.xticks(rotation=45)\n",
    "    plt.title(title)\n",
    "    plt.show()"
   ]
  },
  {
   "cell_type": "code",
   "execution_count": null,
   "id": "7d994dad",
   "metadata": {
    "vscode": {
     "languageId": "plaintext"
    }
   },
   "outputs": [],
   "source": [
    "show_top_words(tops, \"details\", \"Top Words in Tops Details\")\n",
    "show_top_words(bottoms, \"details\", \"Top Words in Bottoms Details\")"
   ]
  }
 ],
 "metadata": {
  "language_info": {
   "name": "python"
  }
 },
 "nbformat": 4,
 "nbformat_minor": 5
}
